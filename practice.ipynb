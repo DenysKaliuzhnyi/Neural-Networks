{
 "cells": [
  {
   "cell_type": "markdown",
   "metadata": {},
   "source": [
    "Розглянемо таку задачу. Маємо набір даних про цифри, а саме їх зображення.  \n",
    "Потрібно навчити нейронну мережу класифікувати зображення цифр."
   ]
  },
  {
   "cell_type": "markdown",
   "metadata": {},
   "source": [
    "Почнемо з небхідних імпортів та налаштувань середовища.  "
   ]
  },
  {
   "cell_type": "code",
   "execution_count": 1,
   "metadata": {},
   "outputs": [
    {
     "name": "stderr",
     "output_type": "stream",
     "text": [
      "Using TensorFlow backend.\n"
     ]
    }
   ],
   "source": [
    "import numpy as np\n",
    "import pandas as pd\n",
    "import matplotlib as mpl\n",
    "import matplotlib.pyplot as plt\n",
    "import seaborn as sns\n",
    "\n",
    "from sklearn.pipeline import Pipeline\n",
    "from sklearn.decomposition import PCA\n",
    "from sklearn.datasets import load_digits\n",
    "from sklearn.model_selection import train_test_split\n",
    "\n",
    "from keras.models import Sequential\n",
    "from keras.layers import Dense\n",
    "from keras.optimizers import SGD\n",
    "from keras.callbacks import EarlyStopping, ModelCheckpoint\n",
    "from keras.wrappers.scikit_learn import KerasClassifier\n",
    "\n",
    "%matplotlib inline\n",
    "\n",
    "sns.set()"
   ]
  },
  {
   "cell_type": "markdown",
   "metadata": {},
   "source": [
    "Загружаємо дані про цифри."
   ]
  },
  {
   "cell_type": "code",
   "execution_count": 2,
   "metadata": {},
   "outputs": [],
   "source": [
    "digits = load_digits()\n",
    "X = digits.data\n",
    "y = digits.target"
   ]
  },
  {
   "cell_type": "markdown",
   "metadata": {},
   "source": [
    "Проведемо невеликий розвідувальний аналіз даних."
   ]
  },
  {
   "cell_type": "code",
   "execution_count": 3,
   "metadata": {},
   "outputs": [
    {
     "name": "stdout",
     "output_type": "stream",
     "text": [
      "[[ 0.  0.  5. ...  0.  0.  0.]\n",
      " [ 0.  0.  0. ... 10.  0.  0.]\n",
      " [ 0.  0.  0. ... 16.  9.  0.]\n",
      " ...\n",
      " [ 0.  0.  1. ...  6.  0.  0.]\n",
      " [ 0.  0.  2. ... 12.  0.  0.]\n",
      " [ 0.  0. 10. ... 12.  1.  0.]]\n",
      "unique values of X = [ 0.  1.  2.  3.  4.  5.  6.  7.  8.  9. 10. 11. 12. 13. 14. 15. 16.]\n",
      "shape of X = (1797, 64)\n"
     ]
    }
   ],
   "source": [
    "print(X)\n",
    "print(\"unique values of X =\", np.unique(X))\n",
    "print(\"shape of X =\", X.shape)"
   ]
  },
  {
   "cell_type": "markdown",
   "metadata": {},
   "source": [
    "Бачимо, що матриця ознак $X$ має форму  $1797\\times64$  та кожний елемент матриці примає  \n",
    "цілі значення від $0$ до $16$. Під цим мається на увазі, що зображення кожної цифри  \n",
    "є картинкою $8\\times8$ пікселів та колір цього пікселя виражається у мірі сірого від $0$ до $16$,  \n",
    "тобто $0$ $-$ білий, а $16$ $-$ чорний. $1797$ є числом спостережень, тобто навчальних картинок.  "
   ]
  },
  {
   "cell_type": "code",
   "execution_count": 4,
   "metadata": {},
   "outputs": [
    {
     "name": "stdout",
     "output_type": "stream",
     "text": [
      "y = [0 1 2 ... 8 9 8]\n",
      "unique values of y = [0 1 2 3 4 5 6 7 8 9]\n",
      "shape of y = (1797,)\n"
     ]
    }
   ],
   "source": [
    "print(\"y =\", y)\n",
    "print(\"unique values of y =\", np.unique(y))\n",
    "print(\"shape of y =\", y.shape)"
   ]
  },
  {
   "cell_type": "markdown",
   "metadata": {},
   "source": [
    "Тут бачимо, що цільовий вектор складається з цифр та має складається з $1797$ елементів. Це логічно,  \n",
    "оскільки кожному спостереженню (рядку матриці $X$) має відповідати єдине число масиву $y$.  \n",
    "$i$-тому рядку $X$ відповідає $i$-й елемент $y$."
   ]
  },
  {
   "cell_type": "markdown",
   "metadata": {},
   "source": [
    "Тепер можемо зобразити декілька екземплярів цифр із вибірки. Щоб не мати сумніву з приводу  \n",
    "класу зображеної цифри, в лівому нижньому куту зробимо помітку класу."
   ]
  },
  {
   "cell_type": "code",
   "execution_count": 5,
   "metadata": {},
   "outputs": [
    {
     "data": {
      "image/png": "[encoded data removed]",
      "text/plain": [
       "<Figure size 432x432 with 64 Axes>"
      ]
     },
     "metadata": {},
     "output_type": "display_data"
    }
   ],
   "source": [
    "fig, ax = plt.subplots(8, 8,\n",
    "                       figsize=(6, 6),\n",
    "                       subplot_kw=dict(xticks=[],\n",
    "                                       yticks=[]),\n",
    "                       gridspec_kw=dict(left=0,\n",
    "                                        right=1,\n",
    "                                        bottom=0,\n",
    "                                        top=1,\n",
    "                                        hspace=0.05,\n",
    "                                        wspace=0.05))\n",
    "for i, axi in enumerate(ax.flat):\n",
    "    axi.imshow(X[i].reshape(8, 8), cmap=plt.cm.binary, interpolation='nearest')\n",
    "    axi.text(0, 7, str(digits.target[i]))"
   ]
  },
  {
   "cell_type": "markdown",
   "metadata": {},
   "source": [
    "Перш ніж починати обробку, розділимо дані на тренувальні та тестувальні у відношенні $80/20$ відповідно.  \n",
    "Це потрібно для того, щоб адекватно оцінити роботу класифікатора за допомогую прогнозування на \"невідомих\" йому даних."
   ]
  },
  {
   "cell_type": "code",
   "execution_count": 6,
   "metadata": {},
   "outputs": [
    {
     "data": {
      "text/plain": [
       "((1437, 64), (360, 64), (1437,), (360,))"
      ]
     },
     "execution_count": 6,
     "metadata": {},
     "output_type": "execute_result"
    }
   ],
   "source": [
    "X_train, X_test, y_train, y_test = train_test_split(X,\n",
    "                                                    y,\n",
    "                                                    test_size=0.2, \n",
    "                                                    shuffle=True,\n",
    "                                                    random_state=0)\n",
    "X_train.shape, X_test.shape, y_train.shape, y_test.shape"
   ]
  },
  {
   "cell_type": "markdown",
   "metadata": {},
   "source": [
    "Також необхідно трансформувати цільовий вектор $y$ в матрицю з одним активним станом,  \n",
    "який є ідентифікатором класу. Тобто матимемо матрицю із десятьма стовпчиками. "
   ]
  },
  {
   "cell_type": "code",
   "execution_count": 7,
   "metadata": {
    "scrolled": true
   },
   "outputs": [
    {
     "name": "stdout",
     "output_type": "stream",
     "text": [
      "[[0 0 0 ... 0 0 0]\n",
      " [0 0 0 ... 0 0 0]\n",
      " [0 0 0 ... 0 0 0]\n",
      " ...\n",
      " [0 0 0 ... 1 0 0]\n",
      " [0 0 0 ... 1 0 0]\n",
      " [0 0 0 ... 0 1 0]]\n",
      "y_train shape become (1437, 10)\n",
      "[[0 0 1 ... 0 0 0]\n",
      " [0 0 0 ... 0 1 0]\n",
      " [0 0 1 ... 0 0 0]\n",
      " ...\n",
      " [0 0 0 ... 0 0 0]\n",
      " [0 0 0 ... 0 1 0]\n",
      " [0 0 0 ... 0 1 0]]\n",
      "y_test shape become (360, 10)\n"
     ]
    }
   ],
   "source": [
    "y_train_onehot = pd.get_dummies(y_train)\n",
    "y_test_onehot = pd.get_dummies(y_test)\n",
    "\n",
    "print(y_train_onehot.values)\n",
    "print(\"y_train shape become\", y_train_onehot.shape)\n",
    "print(y_test_onehot.values)\n",
    "print(\"y_test shape become\", y_test_onehot.shape)"
   ]
  },
  {
   "cell_type": "markdown",
   "metadata": {},
   "source": [
    "Хоча вже можна починати будувати модель нейронної мережі, проведемо деяку оптимізацію на її розмір.  \n",
    "Неважно зрозуміти, що частина даних (пікселів) у зображеннях не є інформативною. Наприклад, майже   \n",
    "всі кутові пікселі білого кольору, а центральні $-$ сірого. Тому можна відфільтрувати непотрібні дані,  \n",
    "які не несуть жодної користі для класифікації. Просто прибрати пікселі, які на всіх зображеннях однотипні,  \n",
    "було б дуже примітивно та не ефективно. Для такого роду задач використовують аналіз головних компонент  \n",
    "PCA $-$ популярний алгоритм пониження розмірності даних. Якщо розглядати кожне зображення як точку  \n",
    "в $64$-мірному просторі, то можна казати про базис цього простору. В простому випадку він є класичним $-$ $64$   \n",
    "вектора із однією  одиничною та іншими нульовими компонентами. Проте PCA дозволяє утворити новий базис із  \n",
    "векторів меншої за $64$ кількості так, щоб мінімізувати втрату інформації. Метод дає інформацію про частку  \n",
    "поясненої дисперсії даних $-$ міру того, скільки у відсотках залишається варіації в даних при зменшенні  \n",
    "кількості векторів базису.  "
   ]
  },
  {
   "cell_type": "markdown",
   "metadata": {},
   "source": [
    "Побудуємо криву, яка для навчальних даних зобразить кумулятивну (відносно кількості  \n",
    "компонент, в порядку від \"найважливішої\" до \"безкорисної\" компоненти) пояснену дисперсію.  "
   ]
  },
  {
   "cell_type": "code",
   "execution_count": 8,
   "metadata": {},
   "outputs": [
    {
     "data": {
      "image/png": "[encoded data removed]",
      "text/plain": [
       "<Figure size 432x288 with 1 Axes>"
      ]
     },
     "metadata": {},
     "output_type": "display_data"
    }
   ],
   "source": [
    "test_pca = PCA(random_state=0).fit(X_train)\n",
    "variance = np.cumsum(test_pca.explained_variance_ratio_)\n",
    "\n",
    "fig, ax = plt.subplots()\n",
    "ax.plot(variance)\n",
    "ax.set_xlabel('Кількість компонент (базисних векторів)')\n",
    "ax.set_ylabel('Кумулятивна пояснена дисперсія');"
   ]
  },
  {
   "cell_type": "markdown",
   "metadata": {},
   "source": [
    "Бачимо, що дані дуже гарно лінійно розділяються (тільки для таких PCA є ефективним).   \n",
    "Навіть при переході від $64$ до $10$ компонент зберігається майже $80\\%$ дисперсії!"
   ]
  },
  {
   "cell_type": "markdown",
   "metadata": {},
   "source": [
    "Встановимо, скільки саме компонент потрібно взяти для збереження $99\\%$ дисперсії.  "
   ]
  },
  {
   "cell_type": "code",
   "execution_count": 9,
   "metadata": {},
   "outputs": [
    {
     "data": {
      "text/plain": [
       "41"
      ]
     },
     "execution_count": 9,
     "metadata": {},
     "output_type": "execute_result"
    }
   ],
   "source": [
    "pca = PCA(0.99, random_state=0).fit(X_train)\n",
    "n_components = pca.n_components_\n",
    "n_components"
   ]
  },
  {
   "cell_type": "markdown",
   "metadata": {},
   "source": [
    "Маємо розмірність $41$. Вважаю, що досить непоганий результат."
   ]
  },
  {
   "cell_type": "code",
   "execution_count": 10,
   "metadata": {},
   "outputs": [
    {
     "data": {
      "text/plain": [
       "(41, 64)"
      ]
     },
     "execution_count": 10,
     "metadata": {},
     "output_type": "execute_result"
    }
   ],
   "source": [
    "pca.components_.shape"
   ]
  },
  {
   "cell_type": "markdown",
   "metadata": {},
   "source": [
    "Тепер матриця базису має розмірність $41\\times64$, де базисні вектори розташовані по рядках."
   ]
  },
  {
   "cell_type": "markdown",
   "metadata": {},
   "source": [
    "Цікаво також подивитись на вигляд самих базисних векторів. По суті, кожен такий вектор також є  \n",
    "зображенням $8\\times8$. Його можна інтерпретувати наступним чином: кожний вектор базису є типовим  \n",
    "\"шаблоном\" загальної структури даних. Наприклад, в першому рядку другому стовпчику можна  \n",
    "розгледіти образ нуля, а правіше $-$ двійки. Грубо кажучи, лінійною комбінацію таких зображень  \n",
    "можна досить точно відновити довільний елемент тренувальної вибірки."
   ]
  },
  {
   "cell_type": "code",
   "execution_count": 11,
   "metadata": {},
   "outputs": [
    {
     "data": {
      "image/png": "[encoded data removed]",
      "text/plain": [
       "<Figure size 432x432 with 16 Axes>"
      ]
     },
     "metadata": {},
     "output_type": "display_data"
    }
   ],
   "source": [
    "fig, ax = plt.subplots(4, 4,\n",
    "                       figsize=(6, 6),\n",
    "                       subplot_kw=dict(xticks=[],\n",
    "                                       yticks=[]),\n",
    "                       gridspec_kw=dict(left=0,\n",
    "                                        right=1,\n",
    "                                        bottom=0,\n",
    "                                        top=1,\n",
    "                                        hspace=0.05,\n",
    "                                        wspace=0.05))\n",
    "for i, axi in enumerate(ax.flat):\n",
    "    axi.imshow(pca.components_[i].reshape(8, 8), cmap=plt.cm.binary, interpolation='nearest')"
   ]
  },
  {
   "cell_type": "markdown",
   "metadata": {},
   "source": [
    "Для наочності порівняємо оригінал та нове зображення декількох екземплярів."
   ]
  },
  {
   "cell_type": "code",
   "execution_count": 12,
   "metadata": {},
   "outputs": [
    {
     "data": {
      "image/png": "[encoded data removed]",
      "text/plain": [
       "<Figure size 720x180 with 20 Axes>"
      ]
     },
     "metadata": {},
     "output_type": "display_data"
    }
   ],
   "source": [
    "fig, axes = plt.subplots(2,\n",
    "                         10,\n",
    "                         figsize=(10, 2.5),\n",
    "                         subplot_kw=dict(xticks=[], \n",
    "                                         yticks=[]),\n",
    "                         gridspec_kw=dict(left=0,\n",
    "                                         right=1,\n",
    "                                         bottom=0,\n",
    "                                         top=1,\n",
    "                                         hspace=0.05,\n",
    "                                         wspace=0.05))\n",
    "components = pca.transform(X_train)\n",
    "projected = pca.inverse_transform(components)\n",
    "\n",
    "for i in range(10):\n",
    "    axes[0, i].imshow(X_train[i].reshape(8, 8), cmap=plt.cm.binary, interpolation='nearest')\n",
    "    axes[1, i].imshow(projected[i].reshape(8, 8), cmap=plt.cm.binary, interpolation='nearest')\n",
    "axes[0, 0].set_ylabel(f'Початкові\\nдані\\nрозмірності\\n{X_train.shape[1]}')\n",
    "axes[1, 0].set_ylabel(f'Відновлення\\nіз {n_components}\\nкомпонент');"
   ]
  },
  {
   "cell_type": "markdown",
   "metadata": {},
   "source": [
    "Переконались, що дані зазнали мінімальних модифікацій."
   ]
  },
  {
   "cell_type": "markdown",
   "metadata": {},
   "source": [
    "Наразі ми тільки натренували PCA на тренувальних (!!!) даних, а тепер застосуємо  \n",
    "трансформацію до тренувальних і тестових."
   ]
  },
  {
   "cell_type": "code",
   "execution_count": 13,
   "metadata": {},
   "outputs": [
    {
     "data": {
      "text/plain": [
       "((1437, 41), (360, 41))"
      ]
     },
     "execution_count": 13,
     "metadata": {},
     "output_type": "execute_result"
    }
   ],
   "source": [
    "X_train_reduced = pca.transform(X_train)\n",
    "X_test_reduced = pca.transform(X_test)\n",
    "X_train_reduced.shape, X_test_reduced.shape"
   ]
  },
  {
   "cell_type": "markdown",
   "metadata": {},
   "source": [
    "Тепер вже перейдемо до проектування мережі. Вона матиме тип прямого розповсюдження. Вхідний шар  \n",
    "складатиметься із $41$ нейрона, а вихідний $-$ із $10$, бо стільки класів. В проміжній частині буде $2$ шари,  \n",
    "обидва складатимуться із $16$ нейронів. Функція активації останнього шару буде softmax, характерна   \n",
    "для класифікації. Між всіма іншими шарами використаємо ReLU. Оптимізатором буде стохастичной  \n",
    "градієнтний спуск із інтенсивністю навчання $0.01$ та її зменшенням на $10^{-5}$ на кожному кроці.  \n",
    "Функцією втрат буде перехресна ентропія для типу задач класифікації. Для того, щоб оцінити точність  \n",
    "прогнозування не тільки за втратами, які не зовсім легко інтерпретувати, будемо використовувати  \n",
    "точність прогнозування $-$ відношення кількості правильно зроблених прогнозів до загальної їх кількості. "
   ]
  },
  {
   "cell_type": "code",
   "execution_count": 14,
   "metadata": {},
   "outputs": [],
   "source": [
    "def create_network(input_dim):\n",
    "    def inner():\n",
    "        network = Sequential()\n",
    "        \n",
    "        network.add(Dense(units=16,\n",
    "                          activation='relu',\n",
    "                          input_shape=(input_dim,)))\n",
    "        network.add(Dense(units=16,\n",
    "                          activation='relu'))\n",
    "        network.add(Dense(units=10,\n",
    "                          activation='softmax'))\n",
    "        \n",
    "        sgd = SGD(lr=0.01, decay=10**-5)\n",
    "\n",
    "        network.compile(loss='categorical_crossentropy',\n",
    "                        optimizer=sgd,\n",
    "                        metrics=['accuracy'])\n",
    "        return network\n",
    "    return inner"
   ]
  },
  {
   "cell_type": "markdown",
   "metadata": {},
   "source": [
    "Задамо критерій зупинки навчання. На кожному корці спуску для тестової вибірки буде  \n",
    "підраховано втрати. Якщо протягом $10$ поколінь втрати не будуть зменшуватись, то  \n",
    "зупиняємо навчання, а вектор параметрів обираємо із \"найкращого\" покоління. Тут  \n",
    "також задаємо дельта $0.0001$ $-$ мінімальна потробна абсолютна зміна втрат, щоб  \n",
    "визнати нове покоління \"кращим\" чи \"гіршим\" за попереднє."
   ]
  },
  {
   "cell_type": "code",
   "execution_count": 15,
   "metadata": {},
   "outputs": [],
   "source": [
    "early_stopping = EarlyStopping(monitor='val_loss',\n",
    "                               mode='min',\n",
    "                               patience=10, \n",
    "                               min_delta=0.0001,\n",
    "                               restore_best_weights=True,\n",
    "                               verbose=1)\n",
    "\n",
    "checkpoint = ModelCheckpoint(filepath='best_model.h5',\n",
    "                             monitor='val_loss',\n",
    "                             mode='min',\n",
    "                             save_best_only=True,\n",
    "                             verbose=1)\n",
    "\n",
    "callbacks = [early_stopping, checkpoint]"
   ]
  },
  {
   "cell_type": "markdown",
   "metadata": {},
   "source": [
    "Відповідно до загальних рекомендацій спеціалістів візьмемо розмір пакету $32$."
   ]
  },
  {
   "cell_type": "code",
   "execution_count": 16,
   "metadata": {},
   "outputs": [],
   "source": [
    "network = KerasClassifier(build_fn=create_network(n_components), \n",
    "                          epochs=999999,\n",
    "                          batch_size=32,\n",
    "                          validation_data=[X_test_reduced, y_test_onehot],\n",
    "                          callbacks=callbacks,\n",
    "                          verbose=1)"
   ]
  },
  {
   "cell_type": "markdown",
   "metadata": {},
   "source": [
    "Виконуємо навчання моделі класифікатора за тренувальною вибіркою."
   ]
  },
  {
   "cell_type": "code",
   "execution_count": 17,
   "metadata": {},
   "outputs": [
    {
     "name": "stdout",
     "output_type": "stream",
     "text": [
      "Train on 1437 samples, validate on 360 samples\n",
      "Epoch 1/999999\n",
      "1437/1437 [==============================] - 0s 110us/step - loss: 2.3678 - accuracy: 0.2951 - val_loss: 1.5825 - val_accuracy: 0.4444\n",
      "\n",
      "Epoch 00001: val_loss improved from inf to 1.58247, saving model to best_model.h5\n",
      "Epoch 2/999999\n",
      "1437/1437 [==============================] - 0s 42us/step - loss: 1.2857 - accuracy: 0.5602 - val_loss: 1.1229 - val_accuracy: 0.6250\n",
      "\n",
      "Epoch 00002: val_loss improved from 1.58247 to 1.12286, saving model to best_model.h5\n",
      "Epoch 3/999999\n",
      "1437/1437 [==============================] - 0s 39us/step - loss: 0.9547 - accuracy: 0.6855 - val_loss: 0.8971 - val_accuracy: 0.7194\n",
      "\n",
      "Epoch 00003: val_loss improved from 1.12286 to 0.89708, saving model to best_model.h5\n",
      "Epoch 4/999999\n",
      "1437/1437 [==============================] - 0s 39us/step - loss: 0.7549 - accuracy: 0.7620 - val_loss: 0.7478 - val_accuracy: 0.7806\n",
      "\n",
      "Epoch 00004: val_loss improved from 0.89708 to 0.74778, saving model to best_model.h5\n",
      "Epoch 5/999999\n",
      "1437/1437 [==============================] - 0s 38us/step - loss: 0.6228 - accuracy: 0.8045 - val_loss: 0.6417 - val_accuracy: 0.8028\n",
      "\n",
      "Epoch 00005: val_loss improved from 0.74778 to 0.64170, saving model to best_model.h5\n",
      "Epoch 6/999999\n",
      "1437/1437 [==============================] - 0s 42us/step - loss: 0.5261 - accuracy: 0.8302 - val_loss: 0.5572 - val_accuracy: 0.8306\n",
      "\n",
      "Epoch 00006: val_loss improved from 0.64170 to 0.55719, saving model to best_model.h5\n",
      "Epoch 7/999999\n",
      "1437/1437 [==============================] - 0s 90us/step - loss: 0.4538 - accuracy: 0.8532 - val_loss: 0.4942 - val_accuracy: 0.8528\n",
      "\n",
      "Epoch 00007: val_loss improved from 0.55719 to 0.49419, saving model to best_model.h5\n",
      "Epoch 8/999999\n",
      "1437/1437 [==============================] - 0s 58us/step - loss: 0.3930 - accuracy: 0.8768 - val_loss: 0.4445 - val_accuracy: 0.8556\n",
      "\n",
      "Epoch 00008: val_loss improved from 0.49419 to 0.44454, saving model to best_model.h5\n",
      "Epoch 9/999999\n",
      "1437/1437 [==============================] - 0s 49us/step - loss: 0.3447 - accuracy: 0.8949 - val_loss: 0.4002 - val_accuracy: 0.8694\n",
      "\n",
      "Epoch 00009: val_loss improved from 0.44454 to 0.40020, saving model to best_model.h5\n",
      "Epoch 10/999999\n",
      "1437/1437 [==============================] - 0s 49us/step - loss: 0.3038 - accuracy: 0.9040 - val_loss: 0.3688 - val_accuracy: 0.8750\n",
      "\n",
      "Epoch 00010: val_loss improved from 0.40020 to 0.36877, saving model to best_model.h5\n",
      "Epoch 11/999999\n",
      "1437/1437 [==============================] - 0s 56us/step - loss: 0.2723 - accuracy: 0.9172 - val_loss: 0.3372 - val_accuracy: 0.8917\n",
      "\n",
      "Epoch 00011: val_loss improved from 0.36877 to 0.33721, saving model to best_model.h5\n",
      "Epoch 12/999999\n",
      "1437/1437 [==============================] - 0s 55us/step - loss: 0.2445 - accuracy: 0.9262 - val_loss: 0.3135 - val_accuracy: 0.8944\n",
      "\n",
      "Epoch 00012: val_loss improved from 0.33721 to 0.31348, saving model to best_model.h5\n",
      "Epoch 13/999999\n",
      "1437/1437 [==============================] - 0s 49us/step - loss: 0.2202 - accuracy: 0.9367 - val_loss: 0.2945 - val_accuracy: 0.9000\n",
      "\n",
      "Epoch 00013: val_loss improved from 0.31348 to 0.29448, saving model to best_model.h5\n",
      "Epoch 14/999999\n",
      "1437/1437 [==============================] - 0s 50us/step - loss: 0.1988 - accuracy: 0.9450 - val_loss: 0.2784 - val_accuracy: 0.9111\n",
      "\n",
      "Epoch 00014: val_loss improved from 0.29448 to 0.27837, saving model to best_model.h5\n",
      "Epoch 15/999999\n",
      "1437/1437 [==============================] - 0s 51us/step - loss: 0.1805 - accuracy: 0.9492 - val_loss: 0.2651 - val_accuracy: 0.9250\n",
      "\n",
      "Epoch 00015: val_loss improved from 0.27837 to 0.26509, saving model to best_model.h5\n",
      "Epoch 16/999999\n",
      "1437/1437 [==============================] - 0s 56us/step - loss: 0.1639 - accuracy: 0.9569 - val_loss: 0.2544 - val_accuracy: 0.9278\n",
      "\n",
      "Epoch 00016: val_loss improved from 0.26509 to 0.25443, saving model to best_model.h5\n",
      "Epoch 17/999999\n",
      "1437/1437 [==============================] - 0s 72us/step - loss: 0.1494 - accuracy: 0.9631 - val_loss: 0.2449 - val_accuracy: 0.9333\n",
      "\n",
      "Epoch 00017: val_loss improved from 0.25443 to 0.24488, saving model to best_model.h5\n",
      "Epoch 18/999999\n",
      "1437/1437 [==============================] - 0s 60us/step - loss: 0.1373 - accuracy: 0.9610 - val_loss: 0.2370 - val_accuracy: 0.9361\n",
      "\n",
      "Epoch 00018: val_loss improved from 0.24488 to 0.23698, saving model to best_model.h5\n",
      "Epoch 19/999999\n",
      "1437/1437 [==============================] - 0s 47us/step - loss: 0.1260 - accuracy: 0.9652 - val_loss: 0.2304 - val_accuracy: 0.9361\n",
      "\n",
      "Epoch 00019: val_loss improved from 0.23698 to 0.23041, saving model to best_model.h5\n",
      "Epoch 20/999999\n",
      "1437/1437 [==============================] - 0s 39us/step - loss: 0.1160 - accuracy: 0.9694 - val_loss: 0.2245 - val_accuracy: 0.9361\n",
      "\n",
      "Epoch 00020: val_loss improved from 0.23041 to 0.22449, saving model to best_model.h5\n",
      "Epoch 21/999999\n",
      "1437/1437 [==============================] - 0s 44us/step - loss: 0.1074 - accuracy: 0.9729 - val_loss: 0.2182 - val_accuracy: 0.9417\n",
      "\n",
      "Epoch 00021: val_loss improved from 0.22449 to 0.21823, saving model to best_model.h5\n",
      "Epoch 22/999999\n",
      "1437/1437 [==============================] - 0s 47us/step - loss: 0.0994 - accuracy: 0.9743 - val_loss: 0.2145 - val_accuracy: 0.9417\n",
      "\n",
      "Epoch 00022: val_loss improved from 0.21823 to 0.21451, saving model to best_model.h5\n",
      "Epoch 23/999999\n",
      "1437/1437 [==============================] - 0s 41us/step - loss: 0.0931 - accuracy: 0.9756 - val_loss: 0.2109 - val_accuracy: 0.9444\n",
      "\n",
      "Epoch 00023: val_loss improved from 0.21451 to 0.21089, saving model to best_model.h5\n",
      "Epoch 24/999999\n",
      "1437/1437 [==============================] - 0s 37us/step - loss: 0.0866 - accuracy: 0.9798 - val_loss: 0.2066 - val_accuracy: 0.9472\n",
      "\n",
      "Epoch 00024: val_loss improved from 0.21089 to 0.20657, saving model to best_model.h5\n",
      "Epoch 25/999999\n",
      "1437/1437 [==============================] - 0s 37us/step - loss: 0.0811 - accuracy: 0.9812 - val_loss: 0.2035 - val_accuracy: 0.9472\n",
      "\n",
      "Epoch 00025: val_loss improved from 0.20657 to 0.20349, saving model to best_model.h5\n",
      "Epoch 26/999999\n",
      "1437/1437 [==============================] - 0s 36us/step - loss: 0.0760 - accuracy: 0.9840 - val_loss: 0.1990 - val_accuracy: 0.9472\n",
      "\n",
      "Epoch 00026: val_loss improved from 0.20349 to 0.19902, saving model to best_model.h5\n",
      "Epoch 27/999999\n",
      "1437/1437 [==============================] - 0s 42us/step - loss: 0.0713 - accuracy: 0.9847 - val_loss: 0.1964 - val_accuracy: 0.9500\n",
      "\n",
      "Epoch 00027: val_loss improved from 0.19902 to 0.19641, saving model to best_model.h5\n",
      "Epoch 28/999999\n",
      "1437/1437 [==============================] - 0s 36us/step - loss: 0.0672 - accuracy: 0.9861 - val_loss: 0.1933 - val_accuracy: 0.9500\n",
      "\n",
      "Epoch 00028: val_loss improved from 0.19641 to 0.19332, saving model to best_model.h5\n",
      "Epoch 29/999999\n",
      "1437/1437 [==============================] - 0s 44us/step - loss: 0.0635 - accuracy: 0.9868 - val_loss: 0.1910 - val_accuracy: 0.9500\n",
      "\n",
      "Epoch 00029: val_loss improved from 0.19332 to 0.19096, saving model to best_model.h5\n",
      "Epoch 30/999999\n",
      "1437/1437 [==============================] - 0s 60us/step - loss: 0.0599 - accuracy: 0.9861 - val_loss: 0.1889 - val_accuracy: 0.9500\n",
      "\n",
      "Epoch 00030: val_loss improved from 0.19096 to 0.18894, saving model to best_model.h5\n",
      "Epoch 31/999999\n",
      "1437/1437 [==============================] - 0s 38us/step - loss: 0.0569 - accuracy: 0.9875 - val_loss: 0.1863 - val_accuracy: 0.9500\n",
      "\n",
      "Epoch 00031: val_loss improved from 0.18894 to 0.18628, saving model to best_model.h5\n",
      "Epoch 32/999999\n",
      "1437/1437 [==============================] - 0s 37us/step - loss: 0.0539 - accuracy: 0.9875 - val_loss: 0.1842 - val_accuracy: 0.9500\n",
      "\n",
      "Epoch 00032: val_loss improved from 0.18628 to 0.18421, saving model to best_model.h5\n",
      "Epoch 33/999999\n",
      "1437/1437 [==============================] - 0s 37us/step - loss: 0.0513 - accuracy: 0.9875 - val_loss: 0.1824 - val_accuracy: 0.9500\n",
      "\n",
      "Epoch 00033: val_loss improved from 0.18421 to 0.18238, saving model to best_model.h5\n",
      "Epoch 34/999999\n",
      "1437/1437 [==============================] - 0s 42us/step - loss: 0.0488 - accuracy: 0.9882 - val_loss: 0.1814 - val_accuracy: 0.9500\n",
      "\n",
      "Epoch 00034: val_loss improved from 0.18238 to 0.18143, saving model to best_model.h5\n",
      "Epoch 35/999999\n"
     ]
    },
    {
     "name": "stdout",
     "output_type": "stream",
     "text": [
      "1437/1437 [==============================] - 0s 37us/step - loss: 0.0466 - accuracy: 0.9910 - val_loss: 0.1795 - val_accuracy: 0.9500\n",
      "\n",
      "Epoch 00035: val_loss improved from 0.18143 to 0.17947, saving model to best_model.h5\n",
      "Epoch 36/999999\n",
      "1437/1437 [==============================] - 0s 42us/step - loss: 0.0445 - accuracy: 0.9903 - val_loss: 0.1787 - val_accuracy: 0.9528\n",
      "\n",
      "Epoch 00036: val_loss improved from 0.17947 to 0.17875, saving model to best_model.h5\n",
      "Epoch 37/999999\n",
      "1437/1437 [==============================] - 0s 37us/step - loss: 0.0427 - accuracy: 0.9910 - val_loss: 0.1780 - val_accuracy: 0.9556\n",
      "\n",
      "Epoch 00037: val_loss improved from 0.17875 to 0.17805, saving model to best_model.h5\n",
      "Epoch 38/999999\n",
      "1437/1437 [==============================] - 0s 43us/step - loss: 0.0410 - accuracy: 0.9923 - val_loss: 0.1765 - val_accuracy: 0.9556\n",
      "\n",
      "Epoch 00038: val_loss improved from 0.17805 to 0.17654, saving model to best_model.h5\n",
      "Epoch 39/999999\n",
      "1437/1437 [==============================] - 0s 38us/step - loss: 0.0389 - accuracy: 0.9930 - val_loss: 0.1757 - val_accuracy: 0.9556\n",
      "\n",
      "Epoch 00039: val_loss improved from 0.17654 to 0.17567, saving model to best_model.h5\n",
      "Epoch 40/999999\n",
      "1437/1437 [==============================] - 0s 40us/step - loss: 0.0369 - accuracy: 0.9930 - val_loss: 0.1751 - val_accuracy: 0.9556\n",
      "\n",
      "Epoch 00040: val_loss improved from 0.17567 to 0.17510, saving model to best_model.h5\n",
      "Epoch 41/999999\n",
      "1437/1437 [==============================] - 0s 38us/step - loss: 0.0350 - accuracy: 0.9944 - val_loss: 0.1742 - val_accuracy: 0.9556\n",
      "\n",
      "Epoch 00041: val_loss improved from 0.17510 to 0.17425, saving model to best_model.h5\n",
      "Epoch 42/999999\n",
      "1437/1437 [==============================] - 0s 49us/step - loss: 0.0333 - accuracy: 0.9951 - val_loss: 0.1733 - val_accuracy: 0.9556\n",
      "\n",
      "Epoch 00042: val_loss improved from 0.17425 to 0.17331, saving model to best_model.h5\n",
      "Epoch 43/999999\n",
      "1437/1437 [==============================] - 0s 39us/step - loss: 0.0317 - accuracy: 0.9965 - val_loss: 0.1727 - val_accuracy: 0.9556\n",
      "\n",
      "Epoch 00043: val_loss improved from 0.17331 to 0.17266, saving model to best_model.h5\n",
      "Epoch 44/999999\n",
      "1437/1437 [==============================] - 0s 52us/step - loss: 0.0302 - accuracy: 0.9979 - val_loss: 0.1711 - val_accuracy: 0.9556\n",
      "\n",
      "Epoch 00044: val_loss improved from 0.17266 to 0.17112, saving model to best_model.h5\n",
      "Epoch 45/999999\n",
      "1437/1437 [==============================] - 0s 37us/step - loss: 0.0288 - accuracy: 0.9986 - val_loss: 0.1705 - val_accuracy: 0.9556\n",
      "\n",
      "Epoch 00045: val_loss improved from 0.17112 to 0.17054, saving model to best_model.h5\n",
      "Epoch 46/999999\n",
      "1437/1437 [==============================] - 0s 37us/step - loss: 0.0275 - accuracy: 0.9986 - val_loss: 0.1703 - val_accuracy: 0.9556\n",
      "\n",
      "Epoch 00046: val_loss improved from 0.17054 to 0.17028, saving model to best_model.h5\n",
      "Epoch 47/999999\n",
      "1437/1437 [==============================] - 0s 42us/step - loss: 0.0263 - accuracy: 0.9979 - val_loss: 0.1699 - val_accuracy: 0.9556\n",
      "\n",
      "Epoch 00047: val_loss improved from 0.17028 to 0.16994, saving model to best_model.h5\n",
      "Epoch 48/999999\n",
      "1437/1437 [==============================] - 0s 38us/step - loss: 0.0251 - accuracy: 0.9993 - val_loss: 0.1689 - val_accuracy: 0.9556\n",
      "\n",
      "Epoch 00048: val_loss improved from 0.16994 to 0.16889, saving model to best_model.h5\n",
      "Epoch 49/999999\n",
      "1437/1437 [==============================] - 0s 36us/step - loss: 0.0241 - accuracy: 1.0000 - val_loss: 0.1676 - val_accuracy: 0.9556\n",
      "\n",
      "Epoch 00049: val_loss improved from 0.16889 to 0.16765, saving model to best_model.h5\n",
      "Epoch 50/999999\n",
      "1437/1437 [==============================] - 0s 39us/step - loss: 0.0231 - accuracy: 1.0000 - val_loss: 0.1679 - val_accuracy: 0.9583\n",
      "\n",
      "Epoch 00050: val_loss did not improve from 0.16765\n",
      "Epoch 51/999999\n",
      "1437/1437 [==============================] - 0s 37us/step - loss: 0.0222 - accuracy: 1.0000 - val_loss: 0.1669 - val_accuracy: 0.9556\n",
      "\n",
      "Epoch 00051: val_loss improved from 0.16765 to 0.16685, saving model to best_model.h5\n",
      "Epoch 52/999999\n",
      "1437/1437 [==============================] - 0s 37us/step - loss: 0.0213 - accuracy: 1.0000 - val_loss: 0.1665 - val_accuracy: 0.9583\n",
      "\n",
      "Epoch 00052: val_loss improved from 0.16685 to 0.16648, saving model to best_model.h5\n",
      "Epoch 53/999999\n",
      "1437/1437 [==============================] - 0s 37us/step - loss: 0.0205 - accuracy: 1.0000 - val_loss: 0.1666 - val_accuracy: 0.9583\n",
      "\n",
      "Epoch 00053: val_loss did not improve from 0.16648\n",
      "Epoch 54/999999\n",
      "1437/1437 [==============================] - 0s 42us/step - loss: 0.0197 - accuracy: 1.0000 - val_loss: 0.1661 - val_accuracy: 0.9583\n",
      "\n",
      "Epoch 00054: val_loss improved from 0.16648 to 0.16613, saving model to best_model.h5\n",
      "Epoch 55/999999\n",
      "1437/1437 [==============================] - 0s 37us/step - loss: 0.0189 - accuracy: 1.0000 - val_loss: 0.1661 - val_accuracy: 0.9583\n",
      "\n",
      "Epoch 00055: val_loss improved from 0.16613 to 0.16609, saving model to best_model.h5\n",
      "Epoch 56/999999\n",
      "1437/1437 [==============================] - 0s 37us/step - loss: 0.0182 - accuracy: 1.0000 - val_loss: 0.1658 - val_accuracy: 0.9583\n",
      "\n",
      "Epoch 00056: val_loss improved from 0.16609 to 0.16575, saving model to best_model.h5\n",
      "Epoch 57/999999\n",
      "1437/1437 [==============================] - 0s 37us/step - loss: 0.0176 - accuracy: 1.0000 - val_loss: 0.1649 - val_accuracy: 0.9556\n",
      "\n",
      "Epoch 00057: val_loss improved from 0.16575 to 0.16490, saving model to best_model.h5\n",
      "Epoch 58/999999\n",
      "1437/1437 [==============================] - 0s 44us/step - loss: 0.0169 - accuracy: 1.0000 - val_loss: 0.1646 - val_accuracy: 0.9556\n",
      "\n",
      "Epoch 00058: val_loss improved from 0.16490 to 0.16457, saving model to best_model.h5\n",
      "Epoch 59/999999\n",
      "1437/1437 [==============================] - 0s 45us/step - loss: 0.0163 - accuracy: 1.0000 - val_loss: 0.1643 - val_accuracy: 0.9556\n",
      "\n",
      "Epoch 00059: val_loss improved from 0.16457 to 0.16434, saving model to best_model.h5\n",
      "Epoch 60/999999\n",
      "1437/1437 [==============================] - 0s 36us/step - loss: 0.0158 - accuracy: 1.0000 - val_loss: 0.1646 - val_accuracy: 0.9556\n",
      "\n",
      "Epoch 00060: val_loss did not improve from 0.16434\n",
      "Epoch 61/999999\n",
      "1437/1437 [==============================] - 0s 41us/step - loss: 0.0153 - accuracy: 1.0000 - val_loss: 0.1639 - val_accuracy: 0.9556\n",
      "\n",
      "Epoch 00061: val_loss improved from 0.16434 to 0.16388, saving model to best_model.h5\n",
      "Epoch 62/999999\n",
      "1437/1437 [==============================] - 0s 39us/step - loss: 0.0148 - accuracy: 1.0000 - val_loss: 0.1641 - val_accuracy: 0.9556\n",
      "\n",
      "Epoch 00062: val_loss did not improve from 0.16388\n",
      "Epoch 63/999999\n",
      "1437/1437 [==============================] - 0s 36us/step - loss: 0.0143 - accuracy: 1.0000 - val_loss: 0.1635 - val_accuracy: 0.9556\n",
      "\n",
      "Epoch 00063: val_loss improved from 0.16388 to 0.16352, saving model to best_model.h5\n",
      "Epoch 64/999999\n",
      "1437/1437 [==============================] - 0s 37us/step - loss: 0.0139 - accuracy: 1.0000 - val_loss: 0.1632 - val_accuracy: 0.9583\n",
      "\n",
      "Epoch 00064: val_loss improved from 0.16352 to 0.16325, saving model to best_model.h5\n",
      "Epoch 65/999999\n",
      "1437/1437 [==============================] - 0s 42us/step - loss: 0.0135 - accuracy: 1.0000 - val_loss: 0.1629 - val_accuracy: 0.9583\n",
      "\n",
      "Epoch 00065: val_loss improved from 0.16325 to 0.16293, saving model to best_model.h5\n",
      "Epoch 66/999999\n",
      "1437/1437 [==============================] - 0s 45us/step - loss: 0.0131 - accuracy: 1.0000 - val_loss: 0.1632 - val_accuracy: 0.9583\n",
      "\n",
      "Epoch 00066: val_loss did not improve from 0.16293\n",
      "Epoch 67/999999\n",
      "1437/1437 [==============================] - 0s 45us/step - loss: 0.0127 - accuracy: 1.0000 - val_loss: 0.1630 - val_accuracy: 0.9583\n",
      "\n",
      "Epoch 00067: val_loss did not improve from 0.16293\n",
      "Epoch 68/999999\n",
      "1437/1437 [==============================] - 0s 51us/step - loss: 0.0124 - accuracy: 1.0000 - val_loss: 0.1628 - val_accuracy: 0.9583\n",
      "\n",
      "Epoch 00068: val_loss improved from 0.16293 to 0.16282, saving model to best_model.h5\n",
      "Epoch 69/999999\n",
      "1437/1437 [==============================] - 0s 40us/step - loss: 0.0120 - accuracy: 1.0000 - val_loss: 0.1629 - val_accuracy: 0.9583\n",
      "\n",
      "Epoch 00069: val_loss did not improve from 0.16282\n",
      "Epoch 70/999999\n",
      "1437/1437 [==============================] - 0s 35us/step - loss: 0.0117 - accuracy: 1.0000 - val_loss: 0.1626 - val_accuracy: 0.9583\n",
      "\n",
      "Epoch 00070: val_loss improved from 0.16282 to 0.16262, saving model to best_model.h5\n",
      "Epoch 71/999999\n"
     ]
    },
    {
     "name": "stdout",
     "output_type": "stream",
     "text": [
      "1437/1437 [==============================] - 0s 35us/step - loss: 0.0114 - accuracy: 1.0000 - val_loss: 0.1627 - val_accuracy: 0.9583\n",
      "\n",
      "Epoch 00071: val_loss did not improve from 0.16262\n",
      "Epoch 72/999999\n",
      "1437/1437 [==============================] - 0s 40us/step - loss: 0.0111 - accuracy: 1.0000 - val_loss: 0.1626 - val_accuracy: 0.9583\n",
      "\n",
      "Epoch 00072: val_loss improved from 0.16262 to 0.16256, saving model to best_model.h5\n",
      "Epoch 73/999999\n",
      "1437/1437 [==============================] - 0s 45us/step - loss: 0.0108 - accuracy: 1.0000 - val_loss: 0.1622 - val_accuracy: 0.9583\n",
      "\n",
      "Epoch 00073: val_loss improved from 0.16256 to 0.16224, saving model to best_model.h5\n",
      "Epoch 74/999999\n",
      "1437/1437 [==============================] - 0s 38us/step - loss: 0.0106 - accuracy: 1.0000 - val_loss: 0.1623 - val_accuracy: 0.9583\n",
      "\n",
      "Epoch 00074: val_loss did not improve from 0.16224\n",
      "Epoch 75/999999\n",
      "1437/1437 [==============================] - 0s 42us/step - loss: 0.0103 - accuracy: 1.0000 - val_loss: 0.1624 - val_accuracy: 0.9583\n",
      "\n",
      "Epoch 00075: val_loss did not improve from 0.16224\n",
      "Epoch 76/999999\n",
      "1437/1437 [==============================] - 0s 40us/step - loss: 0.0100 - accuracy: 1.0000 - val_loss: 0.1624 - val_accuracy: 0.9583\n",
      "\n",
      "Epoch 00076: val_loss did not improve from 0.16224\n",
      "Epoch 77/999999\n",
      "1437/1437 [==============================] - 0s 38us/step - loss: 0.0098 - accuracy: 1.0000 - val_loss: 0.1624 - val_accuracy: 0.9583\n",
      "\n",
      "Epoch 00077: val_loss did not improve from 0.16224\n",
      "Epoch 78/999999\n",
      "1437/1437 [==============================] - 0s 37us/step - loss: 0.0096 - accuracy: 1.0000 - val_loss: 0.1624 - val_accuracy: 0.9583\n",
      "\n",
      "Epoch 00078: val_loss did not improve from 0.16224\n",
      "Epoch 79/999999\n",
      "1437/1437 [==============================] - 0s 37us/step - loss: 0.0094 - accuracy: 1.0000 - val_loss: 0.1628 - val_accuracy: 0.9583\n",
      "\n",
      "Epoch 00079: val_loss did not improve from 0.16224\n",
      "Epoch 80/999999\n",
      "1437/1437 [==============================] - 0s 38us/step - loss: 0.0091 - accuracy: 1.0000 - val_loss: 0.1625 - val_accuracy: 0.9583\n",
      "\n",
      "Epoch 00080: val_loss did not improve from 0.16224\n",
      "Epoch 81/999999\n",
      "1437/1437 [==============================] - 0s 38us/step - loss: 0.0089 - accuracy: 1.0000 - val_loss: 0.1628 - val_accuracy: 0.9583\n",
      "\n",
      "Epoch 00081: val_loss did not improve from 0.16224\n",
      "Epoch 82/999999\n",
      "1437/1437 [==============================] - 0s 37us/step - loss: 0.0088 - accuracy: 1.0000 - val_loss: 0.1627 - val_accuracy: 0.9583\n",
      "\n",
      "Epoch 00082: val_loss did not improve from 0.16224\n",
      "Epoch 83/999999\n",
      "1437/1437 [==============================] - 0s 43us/step - loss: 0.0086 - accuracy: 1.0000 - val_loss: 0.1628 - val_accuracy: 0.9583\n",
      "Restoring model weights from the end of the best epoch\n",
      "\n",
      "Epoch 00083: val_loss did not improve from 0.16224\n",
      "Epoch 00083: early stopping\n"
     ]
    }
   ],
   "source": [
    "history = network.fit(X_train_reduced, y_train_onehot);"
   ]
  },
  {
   "cell_type": "markdown",
   "metadata": {},
   "source": [
    "Вище можна бачити ітеративний опис навчання."
   ]
  },
  {
   "cell_type": "markdown",
   "metadata": {},
   "source": [
    "Нарешті, подивимось на точність класифікації. Побудуємо два графіки. Перший буде відношенням  \n",
    "між поколінням та втратами, при чому окремо для тренувальної та тестувальної вибірки.  \n",
    "Другий графік побудовано аналогічно, тільки по вісі ординат відзначимо оцінку точності."
   ]
  },
  {
   "cell_type": "code",
   "execution_count": 18,
   "metadata": {},
   "outputs": [
    {
     "data": {
      "image/png": "[encoded data removed]",
      "text/plain": [
       "<Figure size 1152x432 with 2 Axes>"
      ]
     },
     "metadata": {},
     "output_type": "display_data"
    }
   ],
   "source": [
    "training_loss = history.history['loss']\n",
    "test_loss = history.history['val_loss']\n",
    "training_accuracy = history.history['accuracy']\n",
    "test_accuracy = history.history['val_accuracy']\n",
    "epoch_count = range(1, len(training_loss) + 1)\n",
    "\n",
    "fig, ax = plt.subplots(1, 2, figsize=(16, 6))\n",
    "\n",
    "ax[0].plot(epoch_count, training_loss, 'r--', label='Втрати на тренуванні')\n",
    "ax[0].plot(epoch_count, test_loss, 'b-', label='Втрати на тестуванні')\n",
    "ax[0].set_xlabel('Покоління')\n",
    "ax[0].set_ylabel('Втрати')\n",
    "ax[0].legend()\n",
    "\n",
    "ax[1].plot(epoch_count, training_accuracy, 'r--', label='Точність на тренуванні')\n",
    "ax[1].plot(epoch_count, test_accuracy, 'b-', label='Точність на тестуванні')\n",
    "ax[1].set_xlabel('Покоління')\n",
    "ax[1].set_ylabel('Оцінка точності')\n",
    "ax[1].legend();"
   ]
  },
  {
   "cell_type": "markdown",
   "metadata": {},
   "source": [
    "Кожного запуску скриптів модель навчається по різному через стохастичність багатьох процесів.  \n",
    "Я виявив, що в середньому точність прогнозування знаходиться в околі $95\\%$.   \n",
    "Точні цифри для даного запуску програми наведені нижче."
   ]
  },
  {
   "cell_type": "code",
   "execution_count": 19,
   "metadata": {},
   "outputs": [
    {
     "name": "stdout",
     "output_type": "stream",
     "text": [
      "total count of epochs 83\n",
      "best epoch at 73th step\n",
      "accuracy = 0.958 %\n",
      "loss = 0.162\n"
     ]
    }
   ],
   "source": [
    "epoch_cnt = len(test_loss)\n",
    "print(\"total count of epochs\", epoch_cnt)\n",
    "\n",
    "best_epoch = epoch_cnt - 10\n",
    "print(f\"best epoch at {best_epoch}th step\")\n",
    "\n",
    "score = test_accuracy[best_epoch]\n",
    "print(f\"accuracy = {np.round(score, 3)} %\")\n",
    "\n",
    "loss = test_loss[best_epoch]\n",
    "print(f\"loss = {np.round(loss, 3)}\")"
   ]
  }
 ],
 "metadata": {
  "kernelspec": {
   "display_name": "condaenv",
   "language": "python",
   "name": "condaenv"
  },
  "language_info": {
   "codemirror_mode": {
    "name": "ipython",
    "version": 3
   },
   "file_extension": ".py",
   "mimetype": "text/x-python",
   "name": "python",
   "nbconvert_exporter": "python",
   "pygments_lexer": "ipython3",
   "version": "3.6.10"
  }
 },
 "nbformat": 4,
 "nbformat_minor": 4
}
